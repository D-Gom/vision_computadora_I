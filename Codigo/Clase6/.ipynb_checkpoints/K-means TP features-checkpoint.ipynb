{
 "cells": [
  {
   "cell_type": "code",
   "execution_count": 2,
   "id": "060f5394",
   "metadata": {},
   "outputs": [
    {
     "name": "stdout",
     "output_type": "stream",
     "text": [
      "Using matplotlib backend: Qt5Agg\n"
     ]
    }
   ],
   "source": [
    "# %matplotlib inline\n",
    "%matplotlib\n",
    "import numpy as np\n",
    "import cv2 as cv\n",
    "import matplotlib.pyplot as plt"
   ]
  },
  {
   "cell_type": "code",
   "execution_count": 11,
   "id": "9d05c26d",
   "metadata": {},
   "outputs": [
    {
     "name": "stdout",
     "output_type": "stream",
     "text": [
      "[[ 68.  98.  26.   0.   0.]\n",
      " [ 72. 101.  32.   0.   1.]\n",
      " [ 72. 100.  31.   0.   2.]\n",
      " ...\n",
      " [ 98. 115.  53. 708. 790.]\n",
      " [ 95. 113.  54. 708. 791.]\n",
      " [ 96. 113.  56. 708. 792.]]\n"
     ]
    }
   ],
   "source": [
    "img = cv.imread('piezas.png')\n",
    "\n",
    "# canales RGB como columnas\n",
    "features_color = img.reshape((-1,3))\n",
    "\n",
    "# vector de coordenadas dentro de la imagen (sobre un plano x,y)\n",
    "xy_coords = np.array(np.where(img[:,:,0] >= 0))\n",
    "\n",
    "# concateno con \n",
    "all_features = np.float32(np.concatenate((features, xy_coords.T),axis=1))\n",
    "print(all_features)"
   ]
  },
  {
   "cell_type": "code",
   "execution_count": null,
   "id": "1bad93e1",
   "metadata": {},
   "outputs": [],
   "source": []
  },
  {
   "cell_type": "code",
   "execution_count": null,
   "id": "cdd8fcf9",
   "metadata": {},
   "outputs": [],
   "source": []
  }
 ],
 "metadata": {
  "kernelspec": {
   "display_name": "Python 3",
   "language": "python",
   "name": "python3"
  },
  "language_info": {
   "codemirror_mode": {
    "name": "ipython",
    "version": 3
   },
   "file_extension": ".py",
   "mimetype": "text/x-python",
   "name": "python",
   "nbconvert_exporter": "python",
   "pygments_lexer": "ipython3",
   "version": "3.7.10"
  }
 },
 "nbformat": 4,
 "nbformat_minor": 5
}
