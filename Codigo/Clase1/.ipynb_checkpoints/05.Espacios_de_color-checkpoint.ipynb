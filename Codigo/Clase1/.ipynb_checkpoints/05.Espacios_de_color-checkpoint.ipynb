{
 "cells": [
  {
   "cell_type": "markdown",
   "metadata": {},
   "source": [
    "# Espacios de color\n",
    "\n",
    "Manipulación y cambio de espacio"
   ]
  },
  {
   "cell_type": "code",
   "execution_count": null,
   "metadata": {},
   "outputs": [],
   "source": [
    "%matplotlib inline\n",
    "\n",
    "# OpenCV-Python utiliza NumPy para el manejo de imágenes\n",
    "import numpy as np\n",
    "# cv2 es el módulo python para acceder a OpenCV \n",
    "import cv2 as cv\n",
    "# Usamos las poderosas herramientas de graficación de matplotlib para mostrar imágenes, perfiles, histogramas, etc\n",
    "import matplotlib.pyplot as plt"
   ]
  },
  {
   "cell_type": "code",
   "execution_count": null,
   "metadata": {},
   "outputs": [],
   "source": [
    "# Veamos las transformaciones posibles\n",
    "\n",
    "flags = [i for i in dir(cv) if i.startswith('COLOR_')]\n",
    "print( flags )"
   ]
  },
  {
   "cell_type": "code",
   "execution_count": null,
   "metadata": {},
   "outputs": [],
   "source": [
    "# Ejercicio: extraer los píxeles del tablero (color verde)\n",
    "# Primera parte: encontrar un espacio de color conveniente para la discriminación\n",
    "\n",
    "img_color = cv.imread('imgBloque1.bmp')\n",
    "\n",
    "imgHSV = cv.cvtColor(img_color, cv.COLOR_BGR2HSV)\n",
    "\n",
    "plt.imshow(img_color[:,:,::-1])\n",
    "plt.show()\n",
    "\n",
    "idx_col = 350\n",
    "perfil_color = imgHSV[:,idx_col]\n",
    "plt.plot(perfil_color[:,0], color='r',label='H')\n",
    "plt.plot(perfil_color[:,1], color='g',label='S')\n",
    "plt.plot(perfil_color[:,2], color='b',label='V')\n",
    "plt.xlabel('Fila')\n",
    "plt.ylabel('Intensidad')\n",
    "plt.title('Perfil sobre la columna {}'.format(idx_col))\n",
    "plt.grid()\n",
    "plt.xlim(0,480)\n",
    "plt.ylim(0,255)\n",
    "plt.legend()\n",
    "plt.show()\n"
   ]
  },
  {
   "cell_type": "code",
   "execution_count": null,
   "metadata": {},
   "outputs": [],
   "source": [
    "im_h,im_s,im_v = cv.split(imgHSV)\n",
    "\n",
    "# La curva de Hue, discrimina fácilmente el color del tablero de los colores del fondo\n",
    "plt.imshow(im_h,cmap='gray')\n",
    "plt.show()\n",
    "\n",
    "# Puedo complementar con la curva de saturación, ya que ambas son muy uniformes sobre el tablero\n",
    "plt.imshow(im_s,cmap='gray')\n",
    "plt.show()\n",
    "\n",
    "# La imagen de intensidad (V) permite discriminar fácilmente el bloque del tablero, pero confunde el tablero con el fondo\n",
    "plt.imshow(im_v,cmap='gray')\n",
    "plt.show()\n"
   ]
  },
  {
   "cell_type": "code",
   "execution_count": null,
   "metadata": {},
   "outputs": [],
   "source": [
    "# Ejercicio: mostrar la imágen binarizada del tablero (blanco) y el resto (negro)\n",
    "muestra = imgHSV[300:350,300:350,:]\n",
    "\n",
    "color_medio = np.mean(muestra, axis=(0,1))\n",
    "color_medio_cv = cv.mean(muestra)\n",
    "\n",
    "print(color_medio)\n",
    "print(color_medio_cv)\n",
    "\n",
    "muestra = cv.cvtColor(muestra, cv.COLOR_HSV2BGR)\n",
    "muestra = cv.cvtColor(muestra, cv.COLOR_BGR2GRAY)\n",
    "plt.figure()\n",
    "plt.imshow(muestra, cmap='gray')\n",
    "plt.show()"
   ]
  },
  {
   "cell_type": "code",
   "execution_count": null,
   "metadata": {},
   "outputs": [],
   "source": [
    "\n",
    "val_h_medio = color_medio[0]\n",
    "color_l = (val_h_medio-10, 10, 10)\n",
    "color_u = (val_h_medio+10, 150, 150)\n",
    "\n",
    "mask = cv.inRange(imgHSV, color_l,  color_u)\n",
    "img_segmentada = cv.bitwise_and(img_color, img_color, mask=mask)\n",
    "\n",
    "plt.imshow(img_segmentada[:,:,::-1])\n",
    "plt.show()\n"
   ]
  },
  {
   "cell_type": "code",
   "execution_count": null,
   "metadata": {},
   "outputs": [],
   "source": []
  }
 ],
 "metadata": {
  "kernelspec": {
   "display_name": "Python 3",
   "language": "python",
   "name": "python3"
  },
  "language_info": {
   "codemirror_mode": {
    "name": "ipython",
    "version": 3
   },
   "file_extension": ".py",
   "mimetype": "text/x-python",
   "name": "python",
   "nbconvert_exporter": "python",
   "pygments_lexer": "ipython3",
   "version": "3.7.10"
  }
 },
 "nbformat": 4,
 "nbformat_minor": 2
}
