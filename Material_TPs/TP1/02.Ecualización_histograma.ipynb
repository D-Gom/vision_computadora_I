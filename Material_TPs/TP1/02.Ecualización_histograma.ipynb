{
 "cells": [
  {
   "cell_type": "markdown",
   "metadata": {},
   "source": [
    "# Ecualización de histograma\n",
    "\n",
    "Global\n",
    "Adaptativa"
   ]
  },
  {
   "cell_type": "code",
   "execution_count": 1,
   "metadata": {},
   "outputs": [
    {
     "name": "stdout",
     "output_type": "stream",
     "text": [
      "Using matplotlib backend: Qt5Agg\n"
     ]
    }
   ],
   "source": [
    "#Si queremos que las imágenes sean mostradas en una ventana emergente quitar el inline\n",
    "%matplotlib\n",
    "\n",
    "import numpy as np\n",
    "import cv2 as cv\n",
    "import matplotlib.pyplot as plt"
   ]
  },
  {
   "cell_type": "code",
   "execution_count": 5,
   "metadata": {},
   "outputs": [
    {
     "data": {
      "text/plain": [
       "[<matplotlib.lines.Line2D at 0x163083d7548>]"
      ]
     },
     "execution_count": 5,
     "metadata": {},
     "output_type": "execute_result"
    }
   ],
   "source": [
    "# Cargar una imagen en modo monocromático (un canal)\n",
    "img1 = cv.imread('img1_tp.png', cv.IMREAD_GRAYSCALE)\n",
    "img2 = cv.imread('img2_tp.png', cv.IMREAD_GRAYSCALE)\n",
    "\n",
    "\n",
    "hist1, _ = np.histogram(img1.ravel(), 256, [0,256])\n",
    "hist2, _ = np.histogram(img2.ravel(), 256, [0,256])\n",
    "\n",
    "plt.figure()\n",
    "plt.plot(hist1)\n",
    "plt.figure()\n",
    "plt.plot(hist2)"
   ]
  },
  {
   "cell_type": "code",
   "execution_count": 6,
   "metadata": {},
   "outputs": [
    {
     "data": {
      "text/plain": [
       "(array([22983.,  3036.,  3306.,  4000.,  3860.,  4085.,  4096.,  3657.,\n",
       "         3746.,  3523.,  3355.,  3454.,  3125.,  3034.,  2762.,  2763.,\n",
       "         2750.,  2426.,  2390.,  2294.,  2189.,  1959.,  1865.,  1747.,\n",
       "         1740.,  1582.,  1512.,  1490.,  1444.,  1389.,  1278.,  1269.,\n",
       "         1370.,  1262.,  1153.,  1199.,  1209.,  1136.,  1150.,  1169.,\n",
       "         1166.,  1119.,  1152.,  1173.,  1215.,  1187.,  1284.,  1201.,\n",
       "         1342.,  1267.,  1343.,  1280.,  1374.,  1390.,  1380.,  1466.,\n",
       "         1501.,  1447.,  1496.,  1474.,  1522.,  1523.,  1577.,  1641.,\n",
       "         1653.,  1718.,  1664.,  1668.,  1760.,  1717.,  1700.,  1835.,\n",
       "         1825.,  1841.,  1876.,  1931.,  1910.,  2061.,  2029.,  2093.,\n",
       "         2282.,  2076.,  2158.,  2168.,  2349.,  2220.,  2325.,  2338.,\n",
       "         2398.,  2381.,  2411.,  2412.,  2390.,  2359.,  2399.,  2468.,\n",
       "         2637.,  2419.,  2450.,  2389.,  2453.,  2388.,  2452.,  2169.,\n",
       "         2242.,  2100.,  2118.,  2035.,  1921.,  1940.,  1794.,  1718.,\n",
       "         1807.,  1629.,  1448.,  1526.,  1482.,  1423.,  1312.,  1275.,\n",
       "         1173.,  1207.,  1200.,  1193.,  1099.,  1009.,  1029.,  1086.,\n",
       "          962.,   957.,   972.,   876.,   918.,   821.,   844.,   782.,\n",
       "          808.,   757.,   708.,   757.,   630.,   704.,   636.,   717.,\n",
       "          647.,   660.,   664.,   704.,   644.,   616.,   640.,   626.,\n",
       "          613.,   627.,   612.,   648.,   588.,   646.,   557.,   623.,\n",
       "          576.,   570.,   563.,   560.,   602.,   582.,   563.,   588.,\n",
       "          615.,   637.,   643.,   612.,   655.,   664.,   800.,   913.,\n",
       "          961.,  1181.,  1253.,  1592.,  1169.,  1523.,  1529.,  1246.,\n",
       "         1164.,  1037.,  1401.,  1321.,  2309.,  3178.,  1825.,  2658.,\n",
       "         2384.,  3211.,  3338.,  3504.,  3518.,  3248.,  5016.,  4991.,\n",
       "         5985.,  7801.,  8406.,  8199.,  8473.,  7772.,  6520.,  5890.,\n",
       "         6192.,  5816.,  6402.,  6676.,  6637.,  6195.,  4803.,  5981.,\n",
       "         4948.,  5616.,  4971.,  5020.,  5220.,  5646.,  5075.,  6036.,\n",
       "         4297.,  4905.,  5423.,  4942.,  4974.,  4674.,  3982.,  3133.,\n",
       "         2901.,  2820.,  3250.,  3679.,  3241.,  3426.,  3291.,  3279.,\n",
       "         2815.,  2929.,  3035.,  2683.,  3114.,  3051.,  2879.,  2565.,\n",
       "         2495.,  1531.,   905.,   598.,   309.,   164.,   108.,   327.]),\n",
       " array([  0.,   1.,   2.,   3.,   4.,   5.,   6.,   7.,   8.,   9.,  10.,\n",
       "         11.,  12.,  13.,  14.,  15.,  16.,  17.,  18.,  19.,  20.,  21.,\n",
       "         22.,  23.,  24.,  25.,  26.,  27.,  28.,  29.,  30.,  31.,  32.,\n",
       "         33.,  34.,  35.,  36.,  37.,  38.,  39.,  40.,  41.,  42.,  43.,\n",
       "         44.,  45.,  46.,  47.,  48.,  49.,  50.,  51.,  52.,  53.,  54.,\n",
       "         55.,  56.,  57.,  58.,  59.,  60.,  61.,  62.,  63.,  64.,  65.,\n",
       "         66.,  67.,  68.,  69.,  70.,  71.,  72.,  73.,  74.,  75.,  76.,\n",
       "         77.,  78.,  79.,  80.,  81.,  82.,  83.,  84.,  85.,  86.,  87.,\n",
       "         88.,  89.,  90.,  91.,  92.,  93.,  94.,  95.,  96.,  97.,  98.,\n",
       "         99., 100., 101., 102., 103., 104., 105., 106., 107., 108., 109.,\n",
       "        110., 111., 112., 113., 114., 115., 116., 117., 118., 119., 120.,\n",
       "        121., 122., 123., 124., 125., 126., 127., 128., 129., 130., 131.,\n",
       "        132., 133., 134., 135., 136., 137., 138., 139., 140., 141., 142.,\n",
       "        143., 144., 145., 146., 147., 148., 149., 150., 151., 152., 153.,\n",
       "        154., 155., 156., 157., 158., 159., 160., 161., 162., 163., 164.,\n",
       "        165., 166., 167., 168., 169., 170., 171., 172., 173., 174., 175.,\n",
       "        176., 177., 178., 179., 180., 181., 182., 183., 184., 185., 186.,\n",
       "        187., 188., 189., 190., 191., 192., 193., 194., 195., 196., 197.,\n",
       "        198., 199., 200., 201., 202., 203., 204., 205., 206., 207., 208.,\n",
       "        209., 210., 211., 212., 213., 214., 215., 216., 217., 218., 219.,\n",
       "        220., 221., 222., 223., 224., 225., 226., 227., 228., 229., 230.,\n",
       "        231., 232., 233., 234., 235., 236., 237., 238., 239., 240., 241.,\n",
       "        242., 243., 244., 245., 246., 247., 248., 249., 250., 251., 252.,\n",
       "        253., 254., 255., 256.]),\n",
       " <BarContainer object of 256 artists>)"
      ]
     },
     "execution_count": 6,
     "metadata": {},
     "output_type": "execute_result"
    }
   ],
   "source": [
    "segm = cv.imread('segmentacion.png')\n",
    "hist1 = cv.calcHist( [segm], [0], None, [256], [0, 256])\n",
    "hist2 = cv.calcHist( [segm], [1], None, [256], [0, 256])\n",
    "hist3 = cv.calcHist( [segm], [2], None, [256], [0, 256])\n",
    "\n",
    "\n",
    "plt.figure()\n",
    "plt.plot(hist1, 'b')\n",
    "plt.plot(hist2, 'g')\n",
    "plt.plot(hist3, 'r')\n",
    "\n",
    "plt.figure()\n",
    "plt.hist(segm[:,:,0].ravel(), bins=256, range=[0, 256])"
   ]
  },
  {
   "cell_type": "code",
   "execution_count": 8,
   "metadata": {},
   "outputs": [
    {
     "data": {
      "text/plain": [
       "<matplotlib.image.AxesImage at 0x1630a99d088>"
      ]
     },
     "execution_count": 8,
     "metadata": {},
     "output_type": "execute_result"
    }
   ],
   "source": [
    "color_min = (170, 0, 0)\n",
    "color_max = (255, 255, 255)\n",
    "mask_sky = cv.inRange(segm, color_min,  color_max)\n",
    "mask_2 = cv.inRange(segm, (0, 0, 0),  (40, 0, 0))\n",
    "\n",
    "img_segmentada = cv.bitwise_and(segm, segm, mask=mask_sky)\n",
    "img2show = cv.cvtColor(img_segmentada, cv.COLOR_BGR2RGB)\n",
    "\n",
    "\n",
    "plt.figure(1)\n",
    "plt.imshow(img2show)\n"
   ]
  },
  {
   "cell_type": "code",
   "execution_count": 82,
   "metadata": {},
   "outputs": [],
   "source": [
    "img2 = cv.imread('wp_red.png')\n",
    "B,G,R = cv.split(img2)\n",
    "\n",
    "s_b = 255/np.max(B)\n",
    "s_g = 255/np.max(G)\n",
    "s_r = 255/np.max(R)\n",
    "\n",
    "img_processed = cv.merge([B*s_b, G*s_g, R*s_r]).astype(np.uint8)\n",
    "\n",
    "#img_processed = img2 * (255 / np.max(img2, axis=(0, 1))).clip(255).astype(np.uint8)\n",
    "\n",
    "#img_norm = cv.normalize(img_processed, None, 0, 255, cv.NORM_MINMAX)\n",
    "\n",
    "cv.imshow('img_processed', img_processed)\n",
    "cv.imshow('img_orig', img2)\n",
    "\n",
    "#img2show = cv.cvtColor(img_processed., cv.COLOR_BGR2RGB)"
   ]
  },
  {
   "cell_type": "code",
   "execution_count": 68,
   "metadata": {},
   "outputs": [
    {
     "data": {
      "text/plain": [
       "array([1.        , 1.53614458, 1.51785714])"
      ]
     },
     "execution_count": 68,
     "metadata": {},
     "output_type": "execute_result"
    }
   ],
   "source": [
    "255 / np.max(img2, axis=(0, 1))"
   ]
  },
  {
   "cell_type": "markdown",
   "metadata": {},
   "source": [
    "#### Ejemplo: Ecualización global"
   ]
  },
  {
   "cell_type": "code",
   "execution_count": 3,
   "metadata": {},
   "outputs": [],
   "source": [
    "# Nueva figura\n",
    "fig = plt.figure()\n",
    "\n",
    "# Imagen original\n",
    "ax1=plt.subplot(221)\n",
    "ax1.imshow(img, cmap='gray', vmin=0, vmax=255)\n",
    "ax1.set_title('Original')\n",
    "\n",
    "hist1, bins1 = np.histogram(img.ravel(), 256, [0,256])\n",
    "ax3=plt.subplot(223)\n",
    "ax3.plot(hist1)\n",
    "\n",
    "# Imagen ecualizada\n",
    "img_eqzd = cv.equalizeHist(img)\n",
    "ax2=plt.subplot(222)\n",
    "ax2.imshow(img_eqzd, cmap='gray', vmin=0, vmax=255)\n",
    "ax2.set_title('Ecualizada')\n",
    "\n",
    "hist2,bins2 = np.histogram(img_eqzd.ravel(),256,[0,256])\n",
    "ax4=plt.subplot(224)\n",
    "ax4.plot(hist2)\n",
    "\n",
    "plt.show()\n"
   ]
  },
  {
   "cell_type": "markdown",
   "metadata": {},
   "source": [
    "#### Ejemplo: CLAHE (Ecualización adaptativa)"
   ]
  },
  {
   "cell_type": "code",
   "execution_count": 5,
   "metadata": {},
   "outputs": [],
   "source": [
    "# Nueva figura\n",
    "fig = plt.figure()\n",
    "\n",
    "# Imagen original\n",
    "ax1=plt.subplot(221)\n",
    "ax1.imshow(img, cmap='gray', vmin=0, vmax=255)\n",
    "ax1.set_title('Original')\n",
    "\n",
    "hist1,bins1 = np.histogram(img.ravel(),256,[0,256])\n",
    "ax3=plt.subplot(223)\n",
    "ax3.plot(hist1)\n",
    "\n",
    "# create a CLAHE object (Arguments are optional).\n",
    "clahe = cv.createCLAHE(clipLimit=2.0, tileGridSize=(8,8))\n",
    "img_eqzd = clahe.apply(img)\n",
    "ax2=plt.subplot(222)\n",
    "ax2.imshow(img_eqzd, cmap='gray', vmin=0, vmax=255)\n",
    "ax2.set_title('Ecualizada')\n",
    "\n",
    "hist2,bins2 = np.histogram(img_eqzd.ravel(),256,[0,256])\n",
    "ax4=plt.subplot(224)\n",
    "ax4.plot(hist2)\n",
    "\n",
    "fig.show()\n",
    "\n",
    "# Mostrar las imagenes lado a lado usando cv2.hconcat\n",
    "out1 = cv.hconcat([img,img_eqzd])\n",
    "cv.imshow('a',out1)\n"
   ]
  },
  {
   "cell_type": "code",
   "execution_count": null,
   "metadata": {},
   "outputs": [],
   "source": []
  }
 ],
 "metadata": {
  "kernelspec": {
   "display_name": "Python 3.7.10 ('vision-robotica')",
   "language": "python",
   "name": "python3"
  },
  "language_info": {
   "codemirror_mode": {
    "name": "ipython",
    "version": 3
   },
   "file_extension": ".py",
   "mimetype": "text/x-python",
   "name": "python",
   "nbconvert_exporter": "python",
   "pygments_lexer": "ipython3",
   "version": "3.7.10"
  },
  "vscode": {
   "interpreter": {
    "hash": "0af437b5139b375ee3fab2b21e8a1376590e14b3c752e237587dc080bd8d5be3"
   }
  }
 },
 "nbformat": 4,
 "nbformat_minor": 2
}
